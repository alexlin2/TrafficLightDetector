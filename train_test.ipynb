{
 "cells": [
  {
   "cell_type": "code",
   "execution_count": 1,
   "metadata": {},
   "outputs": [
    {
     "name": "stdout",
     "output_type": "stream",
     "text": [
      "cuda:0\n"
     ]
    }
   ],
   "source": [
    "import cv2 \n",
    "import torch\n",
    "import numpy as np\n",
    "import torch.optim as optim\n",
    "import torch.nn.functional as F\n",
    "import matplotlib.pyplot as plt\n",
    "import yaml\n",
    "from dataset import TrafficLightDataset, collate_fn\n",
    "from model import trafficLightDetectionModel\n",
    "from train import train_one_epoch\n",
    "from os.path import exists\n",
    "from torchvision.ops import box_iou\n",
    "\n",
    "device = torch.device(\"cuda:0\" if torch.cuda.is_available() else \"cpu\")\n",
    "print(device)\n"
   ]
  },
  {
   "cell_type": "code",
   "execution_count": 2,
   "metadata": {},
   "outputs": [],
   "source": [
    "img_dir = \"/home/alexlin/traffic_net/dataset_train_rgb/\"\n",
    "labels_dir = \"/home/alexlin/traffic_net/dataset_train_rgb/train.yaml\"\n",
    "classes = ['background', 'GreenLeft', 'RedStraightLeft', 'RedLeft', 'off', 'GreenStraight', 'GreenStraightRight',\n",
    "             'GreenStraightLeft', 'RedStraight', 'GreenRight', 'Green', 'Yellow', 'RedRight', 'Red']\n",
    "\n",
    "dataset = TrafficLightDataset(img_dir, labels_dir, classes)\n",
    "train_data = torch.utils.data.DataLoader(\n",
    "    dataset,\n",
    "    batch_size=1,\n",
    "    shuffle=False,\n",
    "    num_workers=16, \n",
    "    collate_fn=collate_fn\n",
    ")\n",
    "data_list = list(train_data)\n",
    "\n",
    "        "
   ]
  },
  {
   "cell_type": "code",
   "execution_count": 3,
   "metadata": {},
   "outputs": [
    {
     "name": "stdout",
     "output_type": "stream",
     "text": [
      "{'boxes': tensor([[244.2500, 140.6000, 246.3000, 143.4500],\n",
      "        [253.5500, 136.9000, 255.2500, 140.4000],\n",
      "        [259.8000, 140.1500, 262.0000, 144.3000]]), 'labels': tensor([11, 11, 11])}\n"
     ]
    }
   ],
   "source": [
    "print(data_list[2][1][0])"
   ]
  },
  {
   "cell_type": "code",
   "execution_count": 4,
   "metadata": {},
   "outputs": [],
   "source": [
    "model = trafficLightDetectionModel(num_classes=len(classes)).to(device)\n"
   ]
  },
  {
   "cell_type": "code",
   "execution_count": 5,
   "metadata": {},
   "outputs": [],
   "source": [
    "start_epoch = 0\n",
    "epoch = 8\n",
    "optimizer = optim.SGD(model.parameters(), lr=0.001, momentum=0.9, weight_decay=0.0005)\n",
    "lr_scheduler = optim.lr_scheduler.MultiStepLR(optimizer, milestones=[10, 15, 20, 25, 30], gamma=0.5)\n",
    "losses = []\n",
    "if exists('checkpoints/last_checkpoint.pt'):\n",
    "    checkpoints = torch.load('checkpoints/last_checkpoint.pt')\n",
    "    start_epoch = checkpoints['epoch']\n",
    "    model.load_state_dict(checkpoints['weights'])\n",
    "    optimizer.load_state_dict(checkpoints['optimizer'])\n",
    "    lr_scheduler.load_state_dict(checkpoints['lr_scheduler'])\n",
    "\n",
    "for e in range(start_epoch+1, epoch):\n",
    "    train_one_epoch(model, device, train_data, optimizer, e, losses)\n",
    "    lr_scheduler.step()\n"
   ]
  },
  {
   "cell_type": "code",
   "execution_count": 6,
   "metadata": {},
   "outputs": [
    {
     "ename": "NameError",
     "evalue": "name 'e' is not defined",
     "output_type": "error",
     "traceback": [
      "\u001b[0;31m---------------------------------------------------------------------------\u001b[0m",
      "\u001b[0;31mNameError\u001b[0m                                 Traceback (most recent call last)",
      "\u001b[0;32m/tmp/ipykernel_5408/1491999140.py\u001b[0m in \u001b[0;36m<module>\u001b[0;34m\u001b[0m\n\u001b[1;32m      1\u001b[0m states = {\n\u001b[0;32m----> 2\u001b[0;31m             \u001b[0;34m'epoch'\u001b[0m\u001b[0;34m:\u001b[0m \u001b[0me\u001b[0m\u001b[0;34m,\u001b[0m\u001b[0;34m\u001b[0m\u001b[0;34m\u001b[0m\u001b[0m\n\u001b[0m\u001b[1;32m      3\u001b[0m             \u001b[0;34m'weights'\u001b[0m\u001b[0;34m:\u001b[0m \u001b[0mmodel\u001b[0m\u001b[0;34m.\u001b[0m\u001b[0mstate_dict\u001b[0m\u001b[0;34m(\u001b[0m\u001b[0;34m)\u001b[0m\u001b[0;34m,\u001b[0m\u001b[0;34m\u001b[0m\u001b[0;34m\u001b[0m\u001b[0m\n\u001b[1;32m      4\u001b[0m             \u001b[0;34m'optimizer'\u001b[0m\u001b[0;34m:\u001b[0m \u001b[0moptimizer\u001b[0m\u001b[0;34m.\u001b[0m\u001b[0mstate_dict\u001b[0m\u001b[0;34m(\u001b[0m\u001b[0;34m)\u001b[0m\u001b[0;34m,\u001b[0m\u001b[0;34m\u001b[0m\u001b[0;34m\u001b[0m\u001b[0m\n\u001b[1;32m      5\u001b[0m             \u001b[0;34m'lr_scheduler'\u001b[0m\u001b[0;34m:\u001b[0m \u001b[0mlr_scheduler\u001b[0m\u001b[0;34m.\u001b[0m\u001b[0mstate_dict\u001b[0m\u001b[0;34m(\u001b[0m\u001b[0;34m)\u001b[0m\u001b[0;34m,\u001b[0m\u001b[0;34m\u001b[0m\u001b[0;34m\u001b[0m\u001b[0m\n",
      "\u001b[0;31mNameError\u001b[0m: name 'e' is not defined"
     ]
    }
   ],
   "source": [
    "states = {\n",
    "            'epoch': e,\n",
    "            'weights': model.state_dict(),\n",
    "            'optimizer': optimizer.state_dict(),\n",
    "            'lr_scheduler': lr_scheduler.state_dict(),\n",
    "            'losses' : losses\n",
    "        }\n",
    "torch.save(states,'checkpoints/last_checkpoint.pt')"
   ]
  },
  {
   "cell_type": "code",
   "execution_count": 6,
   "metadata": {},
   "outputs": [],
   "source": [
    "checkpoints = torch.load('checkpoints/last_checkpoint.pt')\n",
    "start_epoch = checkpoints['epoch']\n",
    "model.load_state_dict(checkpoints['weights'])\n",
    "optimizer.load_state_dict(checkpoints['optimizer'])\n",
    "lr_scheduler.load_state_dict(checkpoints['lr_scheduler'])"
   ]
  },
  {
   "cell_type": "code",
   "execution_count": 21,
   "metadata": {},
   "outputs": [
    {
     "ename": "KeyboardInterrupt",
     "evalue": "",
     "output_type": "error",
     "traceback": [
      "\u001b[0;31m---------------------------------------------------------------------------\u001b[0m",
      "\u001b[0;31mKeyboardInterrupt\u001b[0m                         Traceback (most recent call last)",
      "\u001b[0;32m/tmp/ipykernel_8389/3603515652.py\u001b[0m in \u001b[0;36m<module>\u001b[0;34m\u001b[0m\n\u001b[1;32m      7\u001b[0m \u001b[0;32mwhile\u001b[0m \u001b[0;32mTrue\u001b[0m\u001b[0;34m:\u001b[0m\u001b[0;34m\u001b[0m\u001b[0;34m\u001b[0m\u001b[0m\n\u001b[1;32m      8\u001b[0m     \u001b[0mcv2\u001b[0m\u001b[0;34m.\u001b[0m\u001b[0mimshow\u001b[0m\u001b[0;34m(\u001b[0m\u001b[0;34m'test'\u001b[0m\u001b[0;34m,\u001b[0m \u001b[0mimg\u001b[0m\u001b[0;34m)\u001b[0m\u001b[0;34m\u001b[0m\u001b[0;34m\u001b[0m\u001b[0m\n\u001b[0;32m----> 9\u001b[0;31m     \u001b[0;32mif\u001b[0m \u001b[0mcv2\u001b[0m\u001b[0;34m.\u001b[0m\u001b[0mwaitKey\u001b[0m\u001b[0;34m(\u001b[0m\u001b[0;36m1\u001b[0m\u001b[0;34m)\u001b[0m \u001b[0;34m==\u001b[0m \u001b[0;36m27\u001b[0m\u001b[0;34m:\u001b[0m\u001b[0;34m\u001b[0m\u001b[0;34m\u001b[0m\u001b[0m\n\u001b[0m\u001b[1;32m     10\u001b[0m         \u001b[0;32mpass\u001b[0m\u001b[0;34m\u001b[0m\u001b[0;34m\u001b[0m\u001b[0m\n\u001b[1;32m     11\u001b[0m \u001b[0;34m\u001b[0m\u001b[0m\n",
      "\u001b[0;31mKeyboardInterrupt\u001b[0m: "
     ]
    }
   ],
   "source": [
    "from predict import Predictor\n",
    "p1 = Predictor(model, device)\n",
    "img = p1.read_img('/home/alexlin/traffic_net/dataset_train_rgb/rgb/train/2015-10-05-10-52-01_bag/27860.png')\n",
    "x = p1.process_img(img).to(device)\n",
    "predictions = p1.predict(x)\n",
    "p1.draw_image(img, predictions, classes)\n",
    "while True:\n",
    "    cv2.imshow('test', img)\n",
    "    if cv2.waitKey(1) == 27: \n",
    "        break\n",
    "\n",
    "cv2.destroyAllWindows()"
   ]
  },
  {
   "cell_type": "code",
   "execution_count": 89,
   "metadata": {},
   "outputs": [
    {
     "name": "stdout",
     "output_type": "stream",
     "text": [
      "({'boxes': tensor([[196.6000, 117.0000, 208.6500, 141.2500],\n",
      "        [253.1000, 114.9000, 258.5500, 126.0000],\n",
      "        [320.0500,  81.9500, 326.7000,  95.3500],\n",
      "        [374.9000, 112.3000, 381.4000, 125.7000],\n",
      "        [415.6500,  99.4000, 422.4500, 114.2000]]), 'labels': tensor([ 3,  3, 13, 13, 13])},)\n",
      "{'boxes': tensor([[196.9693, 118.3943, 207.8124, 141.6452],\n",
      "        [375.1334, 113.3391, 381.3925, 126.5752],\n",
      "        [320.2568,  82.7693, 326.9871,  98.9937],\n",
      "        [416.8027,  99.9976, 421.9222, 112.7409],\n",
      "        [253.4191, 115.2037, 258.4132, 126.6794],\n",
      "        [109.5234, 136.0441, 112.8075, 144.1707],\n",
      "        [252.7802, 114.9851, 259.0619, 127.1016],\n",
      "        [196.7881, 117.6098, 209.2438, 144.4737],\n",
      "        [378.1739, 128.4862, 381.4451, 135.7050],\n",
      "        [378.1874, 128.9198, 381.4590, 135.5824],\n",
      "        [109.5551, 136.3233, 112.8839, 144.1271],\n",
      "        [251.9949, 114.0122, 259.7973, 129.1276],\n",
      "        [253.8330, 115.7157, 257.6562, 125.6403],\n",
      "        [249.2918, 113.8223, 260.9431, 130.0836],\n",
      "        [195.4942, 113.6820, 208.1943, 154.8386]], device='cuda:0'), 'labels': tensor([ 3, 13, 13, 13,  3,  3, 13, 13,  3, 13, 13,  3, 13, 13,  3],\n",
      "       device='cuda:0'), 'scores': tensor([0.9670, 0.9573, 0.8479, 0.7368, 0.6047, 0.4391, 0.4242, 0.2578, 0.2341,\n",
      "        0.1897, 0.1789, 0.0965, 0.0847, 0.0578, 0.0566], device='cuda:0')}\n",
      "(1.0, 1.0, 0.5)\n"
     ]
    }
   ],
   "source": [
    "\n",
    "model.eval()\n",
    "x = data_list[20][0][0].to(device)\n",
    "with torch.no_grad():\n",
    "    predictions = model([x])\n",
    "predictions = predictions = {k: v.to(device)\n",
    "                           for k, v in predictions[0].items()}\n",
    "y= data_list[20][1]\n",
    "print(y)\n",
    "print(predictions)\n",
    "labels = [{k: v.to(device) for k, v in t.items()}\n",
    "                  for t in y]\n",
    "print(accurracy(labels[0], predictions))"
   ]
  },
  {
   "cell_type": "code",
   "execution_count": 81,
   "metadata": {},
   "outputs": [],
   "source": [
    "def accurracy(gt, pred):\n",
    "    prob_threshold = .5\n",
    "    IOU_threshold = .5\n",
    "    true_Positive_Counter = 0\n",
    "    false_Positive_Counter = 0\n",
    "    false_Negative_Counter = 0\n",
    "    # pred = pred[0]\n",
    "    # gt = gt[0]\n",
    "    for i, box in enumerate(pred[\"boxes\"]):\n",
    "        if pred[\"scores\"][i] > prob_threshold:\n",
    "            pred_x_max = box[0]\n",
    "            pred_x_min = box[1]\n",
    "            pred_y_max = box[2]\n",
    "            pred_y_min = box[3]\n",
    "            for j, box_gt in enumerate(gt[\"boxes\"]):\n",
    "                gt_x_max = box_gt[0]\n",
    "                gt_x_min = box_gt[1]\n",
    "                gt_y_max = box_gt[2]\n",
    "                gt_y_min = box_gt[3]\n",
    "\n",
    "                xA = max(pred_x_min, gt_x_min)\n",
    "                yA = max(pred_y_min, gt_y_min)\n",
    "                xB = min(pred_x_max, gt_x_max)\n",
    "                yB = min(pred_y_max, gt_y_max)\n",
    "\n",
    "                interArea = max(0, xB - xA + 1) * max(0, yB - yA + 1)\n",
    "\n",
    "                predArea =  (pred_x_max - pred_x_min + 1) * (pred_y_max - pred_y_min + 1)\n",
    "                gtArea = (gt_x_max - gt_x_min + 1) * (gt_y_max - gt_y_min + 1)\n",
    "\n",
    "                iou = interArea / (predArea + gtArea - interArea)\n",
    "\n",
    "\n",
    "                if iou > IOU_threshold:\n",
    "                    if pred[\"labels\"][i] == gt[\"labels\"][j]:\n",
    "                        true_Positive_Counter += 1\n",
    "                    else :\n",
    "                        false_Positive_Counter += 1\n",
    "    \n",
    "    tag = False\n",
    "    precision_score = true_Positive_Counter / (true_Positive_Counter + false_Positive_Counter)\n",
    "    recall_score = true_Positive_Counter / (true_Positive_Counter + false_Negative_Counter)\n",
    "    F1_score = precision_score * recall_score / (precision_score + recall_score)\n",
    "\n",
    "    return precision_score, recall_score, F1_score"
   ]
  },
  {
   "cell_type": "code",
   "execution_count": null,
   "metadata": {},
   "outputs": [],
   "source": [
    "exists('checkpoints/last_checkpoint.pt')"
   ]
  }
 ],
 "metadata": {
  "interpreter": {
   "hash": "96410b080c3ace32be3f113203d8e11bd99d59bea389843ba463ca870d414648"
  },
  "kernelspec": {
   "display_name": "Python 3.8.12 64-bit ('base': conda)",
   "language": "python",
   "name": "python3"
  },
  "language_info": {
   "codemirror_mode": {
    "name": "ipython",
    "version": 3
   },
   "file_extension": ".py",
   "mimetype": "text/x-python",
   "name": "python",
   "nbconvert_exporter": "python",
   "pygments_lexer": "ipython3",
   "version": "3.8.12"
  },
  "orig_nbformat": 4
 },
 "nbformat": 4,
 "nbformat_minor": 2
}
