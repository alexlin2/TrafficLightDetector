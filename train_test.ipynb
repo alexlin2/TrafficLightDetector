{
 "cells": [
  {
   "cell_type": "code",
   "execution_count": 1,
   "metadata": {},
   "outputs": [
    {
     "name": "stdout",
     "output_type": "stream",
     "text": [
      "cuda:0\n"
     ]
    }
   ],
   "source": [
    "import cv2 \n",
    "import torch\n",
    "import numpy as np\n",
    "import torch.optim as optim\n",
    "import torch.nn.functional as F\n",
    "import matplotlib.pyplot as plt\n",
    "import yaml\n",
    "from dataset import TrafficLightDataset, collate_fn\n",
    "from model import trafficLightDetectionModel\n",
    "from train import train_one_epoch\n",
    "from os.path import exists\n",
    "from torchvision.ops import box_iou\n",
    "\n",
    "device = torch.device(\"cuda:0\" if torch.cuda.is_available() else \"cpu\")\n",
    "print(device)\n"
   ]
  },
  {
   "cell_type": "code",
   "execution_count": 2,
   "metadata": {},
   "outputs": [],
   "source": [
    "img_dir = \"/home/alexlin/traffic_net/dataset_train_rgb/\"\n",
    "labels_dir = \"/home/alexlin/traffic_net/dataset_train_rgb/train.yaml\"\n",
    "classes = ['background', 'GreenLeft', 'RedStraightLeft', 'RedLeft', 'off', 'GreenStraight', 'GreenStraightRight',\n",
    "             'GreenStraightLeft', 'RedStraight', 'GreenRight', 'Green', 'Yellow', 'RedRight', 'Red']\n",
    "\n",
    "dataset = TrafficLightDataset(img_dir, labels_dir, classes)\n",
    "train_data = torch.utils.data.DataLoader(\n",
    "    dataset,\n",
    "    batch_size=1,\n",
    "    shuffle=False,\n",
    "    num_workers=16, \n",
    "    collate_fn=collate_fn\n",
    ")\n",
    "data_list = list(train_data)\n",
    "\n",
    "        "
   ]
  },
  {
   "cell_type": "code",
   "execution_count": 4,
   "metadata": {},
   "outputs": [
    {
     "name": "stdout",
     "output_type": "stream",
     "text": [
      "{'boxes': tensor([[244.2500, 140.6000, 246.3000, 143.4500],\n",
      "        [253.5500, 136.9000, 255.2500, 140.4000],\n",
      "        [259.8000, 140.1500, 262.0000, 144.3000]]), 'labels': tensor([11, 11, 11])}\n"
     ]
    }
   ],
   "source": [
    "print(data_list[2][1][0])"
   ]
  },
  {
   "cell_type": "code",
   "execution_count": 3,
   "metadata": {},
   "outputs": [],
   "source": [
    "model = trafficLightDetectionModel(num_classes=len(classes)).to(device)\n"
   ]
  },
  {
   "cell_type": "code",
   "execution_count": 4,
   "metadata": {},
   "outputs": [],
   "source": [
    "start_epoch = 0\n",
    "epoch = 8\n",
    "optimizer = optim.SGD(model.parameters(), lr=0.001, momentum=0.9, weight_decay=0.0005)\n",
    "lr_scheduler = optim.lr_scheduler.MultiStepLR(optimizer, milestones=[10, 15, 20, 25, 30], gamma=0.5)\n",
    "losses = []\n",
    "if exists('checkpoints/last_checkpoint.pt'):\n",
    "    checkpoints = torch.load('checkpoints/last_checkpoint.pt')\n",
    "    start_epoch = checkpoints['epoch']\n",
    "    model.load_state_dict(checkpoints['weights'])\n",
    "    optimizer.load_state_dict(checkpoints['optimizer'])\n",
    "    lr_scheduler.load_state_dict(checkpoints['lr_scheduler'])\n",
    "\n",
    "for e in range(start_epoch+1, epoch):\n",
    "    train_one_epoch(model, device, train_data, optimizer, e, losses)\n",
    "    lr_scheduler.step()\n"
   ]
  },
  {
   "cell_type": "code",
   "execution_count": 6,
   "metadata": {},
   "outputs": [
    {
     "ename": "NameError",
     "evalue": "name 'e' is not defined",
     "output_type": "error",
     "traceback": [
      "\u001b[0;31m---------------------------------------------------------------------------\u001b[0m",
      "\u001b[0;31mNameError\u001b[0m                                 Traceback (most recent call last)",
      "\u001b[0;32m/tmp/ipykernel_5408/1491999140.py\u001b[0m in \u001b[0;36m<module>\u001b[0;34m\u001b[0m\n\u001b[1;32m      1\u001b[0m states = {\n\u001b[0;32m----> 2\u001b[0;31m             \u001b[0;34m'epoch'\u001b[0m\u001b[0;34m:\u001b[0m \u001b[0me\u001b[0m\u001b[0;34m,\u001b[0m\u001b[0;34m\u001b[0m\u001b[0;34m\u001b[0m\u001b[0m\n\u001b[0m\u001b[1;32m      3\u001b[0m             \u001b[0;34m'weights'\u001b[0m\u001b[0;34m:\u001b[0m \u001b[0mmodel\u001b[0m\u001b[0;34m.\u001b[0m\u001b[0mstate_dict\u001b[0m\u001b[0;34m(\u001b[0m\u001b[0;34m)\u001b[0m\u001b[0;34m,\u001b[0m\u001b[0;34m\u001b[0m\u001b[0;34m\u001b[0m\u001b[0m\n\u001b[1;32m      4\u001b[0m             \u001b[0;34m'optimizer'\u001b[0m\u001b[0;34m:\u001b[0m \u001b[0moptimizer\u001b[0m\u001b[0;34m.\u001b[0m\u001b[0mstate_dict\u001b[0m\u001b[0;34m(\u001b[0m\u001b[0;34m)\u001b[0m\u001b[0;34m,\u001b[0m\u001b[0;34m\u001b[0m\u001b[0;34m\u001b[0m\u001b[0m\n\u001b[1;32m      5\u001b[0m             \u001b[0;34m'lr_scheduler'\u001b[0m\u001b[0;34m:\u001b[0m \u001b[0mlr_scheduler\u001b[0m\u001b[0;34m.\u001b[0m\u001b[0mstate_dict\u001b[0m\u001b[0;34m(\u001b[0m\u001b[0;34m)\u001b[0m\u001b[0;34m,\u001b[0m\u001b[0;34m\u001b[0m\u001b[0;34m\u001b[0m\u001b[0m\n",
      "\u001b[0;31mNameError\u001b[0m: name 'e' is not defined"
     ]
    }
   ],
   "source": [
    "states = {\n",
    "            'epoch': e,\n",
    "            'weights': model.state_dict(),\n",
    "            'optimizer': optimizer.state_dict(),\n",
    "            'lr_scheduler': lr_scheduler.state_dict(),\n",
    "            'losses' : losses\n",
    "        }\n",
    "torch.save(states,'checkpoints/last_checkpoint.pt')"
   ]
  },
  {
   "cell_type": "code",
   "execution_count": 5,
   "metadata": {},
   "outputs": [],
   "source": [
    "checkpoints = torch.load('checkpoints/last_checkpoint.pt')\n",
    "start_epoch = checkpoints['epoch']\n",
    "model.load_state_dict(checkpoints['weights'])\n",
    "optimizer.load_state_dict(checkpoints['optimizer'])\n",
    "lr_scheduler.load_state_dict(checkpoints['lr_scheduler'])\n",
    "losses = checkpoints['losses']"
   ]
  },
  {
   "cell_type": "code",
   "execution_count": 17,
   "metadata": {},
   "outputs": [
    {
     "data": {
      "image/png": "[encoded data removed]",
      "text/plain": [
       "<Figure size 432x288 with 1 Axes>"
      ]
     },
     "metadata": {
      "needs_background": "light"
     },
     "output_type": "display_data"
    }
   ],
   "source": [
    "def smooth(x, size):\n",
    "    return np.convolve(x, np.ones(size)/size, mode='valid')\n",
    "\n",
    "plt.plot(smooth(losses[:450],50), color='red')\n",
    "plt.xlabel('Batch Number')\n",
    "plt.ylabel('Loss')\n",
    "plt.title(\"Training loss: \")\n",
    "plt.show()"
   ]
  },
  {
   "cell_type": "code",
   "execution_count": 1,
   "metadata": {},
   "outputs": [
    {
     "ename": "NameError",
     "evalue": "name 'model' is not defined",
     "output_type": "error",
     "traceback": [
      "\u001b[0;31m---------------------------------------------------------------------------\u001b[0m",
      "\u001b[0;31mNameError\u001b[0m                                 Traceback (most recent call last)",
      "\u001b[0;32m/tmp/ipykernel_9084/3359162553.py\u001b[0m in \u001b[0;36m<module>\u001b[0;34m\u001b[0m\n\u001b[1;32m      1\u001b[0m \u001b[0;32mfrom\u001b[0m \u001b[0mpredict\u001b[0m \u001b[0;32mimport\u001b[0m \u001b[0mPredictor\u001b[0m\u001b[0;34m\u001b[0m\u001b[0;34m\u001b[0m\u001b[0m\n\u001b[0;32m----> 2\u001b[0;31m \u001b[0mp1\u001b[0m \u001b[0;34m=\u001b[0m \u001b[0mPredictor\u001b[0m\u001b[0;34m(\u001b[0m\u001b[0mmodel\u001b[0m\u001b[0;34m,\u001b[0m \u001b[0mdevice\u001b[0m\u001b[0;34m)\u001b[0m\u001b[0;34m\u001b[0m\u001b[0;34m\u001b[0m\u001b[0m\n\u001b[0m\u001b[1;32m      3\u001b[0m \u001b[0mimg\u001b[0m \u001b[0;34m=\u001b[0m \u001b[0mp1\u001b[0m\u001b[0;34m.\u001b[0m\u001b[0mread_img\u001b[0m\u001b[0;34m(\u001b[0m\u001b[0;34m'/home/alexlin/traffic_net/dataset_train_rgb/rgb/train/2015-10-05-10-52-01_bag/27860.png'\u001b[0m\u001b[0;34m)\u001b[0m\u001b[0;34m\u001b[0m\u001b[0;34m\u001b[0m\u001b[0m\n\u001b[1;32m      4\u001b[0m \u001b[0mx\u001b[0m \u001b[0;34m=\u001b[0m \u001b[0mp1\u001b[0m\u001b[0;34m.\u001b[0m\u001b[0mprocess_img\u001b[0m\u001b[0;34m(\u001b[0m\u001b[0mimg\u001b[0m\u001b[0;34m)\u001b[0m\u001b[0;34m.\u001b[0m\u001b[0mto\u001b[0m\u001b[0;34m(\u001b[0m\u001b[0mdevice\u001b[0m\u001b[0;34m)\u001b[0m\u001b[0;34m\u001b[0m\u001b[0;34m\u001b[0m\u001b[0m\n\u001b[1;32m      5\u001b[0m \u001b[0mpredictions\u001b[0m \u001b[0;34m=\u001b[0m \u001b[0mp1\u001b[0m\u001b[0;34m.\u001b[0m\u001b[0mpredict\u001b[0m\u001b[0;34m(\u001b[0m\u001b[0mx\u001b[0m\u001b[0;34m)\u001b[0m\u001b[0;34m\u001b[0m\u001b[0;34m\u001b[0m\u001b[0m\n",
      "\u001b[0;31mNameError\u001b[0m: name 'model' is not defined"
     ]
    }
   ],
   "source": [
    "from predict import Predictor\n",
    "p1 = Predictor(model, device)\n",
    "img = p1.read_img('/home/alexlin/traffic_net/dataset_train_rgb/rgb/train/2015-10-05-10-52-01_bag/27860.png')\n",
    "x = p1.process_img(img).to(device)\n",
    "predictions = p1.predict(x)\n",
    "p1.draw_image(img, predictions, classes)\n",
    "while True:\n",
    "    cv2.imshow('test', img)\n",
    "    if cv2.waitKey(1) == 27: \n",
    "        break\n",
    "\n",
    "cv2.destroyAllWindows()"
   ]
  },
  {
   "cell_type": "code",
   "execution_count": 21,
   "metadata": {},
   "outputs": [
    {
     "name": "stdout",
     "output_type": "stream",
     "text": [
      "0.42\n",
      "0.28170820845820854\n",
      "0.1632898832751774\n",
      "0.365\n",
      "0.2575054879760762\n",
      "0.14669309246337106\n",
      "0.43333333333333335\n",
      "0.3083415214604472\n",
      "0.17572090119597317\n",
      "0.4625\n",
      "0.3429402139669082\n",
      "0.19242205452652025\n",
      "0.486\n",
      "0.3728521711735267\n",
      "0.2063645133459187\n",
      "0.4766666666666667\n",
      "0.36749423355369637\n",
      "0.20304011906190428\n",
      "0.4957142857142857\n",
      "0.38031194282719655\n",
      "0.21040267739334292\n",
      "0.4875\n",
      "0.36957970571805276\n",
      "0.205328875366954\n",
      "0.45555555555555555\n",
      "0.3464642701950884\n",
      "0.1923070584047472\n",
      "0.458\n",
      "0.35078050053456056\n",
      "0.19412397865080305\n",
      "0.45454545454545453\n",
      "0.3487773014173559\n",
      "0.1927742528266967\n",
      "0.44\n",
      "0.3388653040770207\n",
      "0.186976269686108\n",
      "0.44153846153846155\n",
      "0.3405908667670668\n",
      "0.187878265437347\n",
      "0.4607142857142857\n",
      "0.35456137059921766\n",
      "0.1957866675759251\n",
      "0.47733333333333333\n",
      "0.3668158259799808\n",
      "0.20259316523790247\n",
      "0.48125\n",
      "0.3696088240577561\n",
      "0.2042612078574665\n",
      "0.4835294117647059\n",
      "0.36962315642630356\n",
      "0.20439375275767552\n",
      "0.48444444444444446\n",
      "0.37167899246529795\n",
      "0.2052329414966238\n",
      "0.4763157894736842\n",
      "0.3668946610474768\n",
      "0.2022877212276632\n",
      "0.4815\n",
      "0.3715494846175313\n",
      "0.204599231257766\n",
      "0.4847619047619048\n",
      "0.37445776651066803\n",
      "0.20613413761933932\n",
      "0.48454545454545456\n",
      "0.3738408233772613\n",
      "0.20585310706354695\n",
      "0.49043478260869566\n",
      "0.3778596898836742\n",
      "0.20818530398643942\n",
      "0.50125\n",
      "0.38607954397164645\n",
      "0.21281253870412437\n",
      "0.4936\n",
      "0.38086636221278053\n",
      "0.20978049395406323\n",
      "0.5042307692307693\n",
      "0.38992119765587585\n",
      "0.21466781466725351\n",
      "0.5059259259259259\n",
      "0.3912540291466825\n",
      "0.21542704787948028\n",
      "0.5082142857142857\n",
      "0.39208359441418167\n",
      "0.2160828156674436\n",
      "0.5062068965517241\n",
      "0.38972247956321904\n",
      "0.21495970352615026\n",
      "0.5073333333333333\n",
      "0.3900827625454774\n",
      "0.21519539221652748\n",
      "0.5109677419354839\n",
      "0.39485412704812034\n",
      "0.21735324287436975\n",
      "0.5159375\n",
      "0.4025610665302476\n",
      "0.22074584986787904\n",
      "0.5193939393939394\n",
      "0.4073571045885831\n",
      "0.22292575872530335\n",
      "0.5223529411764706\n",
      "0.4097848495389318\n",
      "0.22426556550136925\n",
      "0.5268571428571428\n",
      "0.4135924382506056\n",
      "0.22628122936341633\n",
      "0.5283333333333333\n",
      "0.4147079260769776\n",
      "0.22678973676547426\n",
      "0.5256756756756756\n",
      "0.41383817336855416\n",
      "0.22606187883020806\n",
      "0.525\n",
      "0.4126713793325395\n",
      "0.22556470785540805\n",
      "0.5323076923076923\n",
      "0.4187538378269666\n",
      "0.22884659317059197\n",
      "0.531\n",
      "0.4174052757640764\n",
      "0.22815569686507406\n",
      "0.534390243902439\n",
      "0.4221123427367825\n",
      "0.23032459799341573\n",
      "0.5354761904761904\n",
      "0.42434940220923323\n",
      "0.23125087583032217\n",
      "0.5383720930232558\n",
      "0.42762184160723393\n",
      "0.2328375397306087\n",
      "0.5404545454545454\n",
      "0.428086164440895\n",
      "0.23333616834717846\n",
      "0.5366666666666666\n",
      "0.4253823417069672\n",
      "0.2317991237985988\n",
      "0.5367391304347826\n",
      "0.4244685024871579\n",
      "0.23144861524384558\n",
      "0.5425531914893617\n",
      "0.42719891547383265\n",
      "0.23330338424740202\n",
      "0.5427083333333333\n",
      "0.4281645652071923\n",
      "0.23366703706699415\n",
      "0.5412244897959184\n",
      "0.42681518521720035\n",
      "0.23291255530484167\n",
      "0.5422\n",
      "0.4279401454379054\n",
      "0.2334822520960707\n",
      "0.5430983703121932\n",
      "0.42918026080716143\n",
      "0.23407089427166586\n"
     ]
    }
   ],
   "source": [
    "\n",
    "model.eval()\n",
    "\n",
    "average_recall = 0.\n",
    "average_precision = 0.\n",
    "average_f1_score = 0.\n",
    "with torch.no_grad():\n",
    "    for i in range(len(data_list)):\n",
    "        x = data_list[i][0][0].to(device)\n",
    "        predictions = model([x])\n",
    "        predictions = predictions = {k: v.to(device)\n",
    "                                for k, v in predictions[0].items()}\n",
    "        y= data_list[i][1]\n",
    "        labels = [{k: v.to(device) for k, v in t.items()}\n",
    "                        for t in y]\n",
    "        precision_score, recall_score, F1_score = accurracy(labels[0], predictions)\n",
    "        average_recall += recall_score\n",
    "        average_precision += precision_score\n",
    "        average_f1_score += F1_score\n",
    "        if (i+1) % 100 == 0:\n",
    "            print(average_recall/(i+1))\n",
    "            print(average_precision/(i+1))\n",
    "            print(average_f1_score/(i+1) )\n",
    "\n",
    "print(average_recall/len(data_list))\n",
    "print(average_precision/len(data_list))\n",
    "print(average_f1_score/len(data_list))"
   ]
  },
  {
   "cell_type": "code",
   "execution_count": 19,
   "metadata": {},
   "outputs": [],
   "source": [
    "def accurracy(gt, pred):\n",
    "    prob_threshold = .5\n",
    "    IOU_threshold = .5\n",
    "    true_Positive_Counter = 0\n",
    "    false_Positive_Counter = 0\n",
    "    false_Negative_Counter = 0\n",
    "    for i, box in enumerate(pred[\"boxes\"]):\n",
    "        if pred[\"scores\"][i] > prob_threshold:\n",
    "            pred_x_max = box[0]\n",
    "            pred_x_min = box[1]\n",
    "            pred_y_max = box[2]\n",
    "            pred_y_min = box[3]\n",
    "            for j, box_gt in enumerate(gt[\"boxes\"]):\n",
    "                gt_x_max = box_gt[0]\n",
    "                gt_x_min = box_gt[1]\n",
    "                gt_y_max = box_gt[2]\n",
    "                gt_y_min = box_gt[3]\n",
    "\n",
    "                xA = max(pred_x_min, gt_x_min)\n",
    "                yA = max(pred_y_min, gt_y_min)\n",
    "                xB = min(pred_x_max, gt_x_max)\n",
    "                yB = min(pred_y_max, gt_y_max)\n",
    "\n",
    "                interArea = max(0, xB - xA + 1) * max(0, yB - yA + 1)\n",
    "\n",
    "                predArea =  (pred_x_max - pred_x_min + 1) * (pred_y_max - pred_y_min + 1)\n",
    "                gtArea = (gt_x_max - gt_x_min + 1) * (gt_y_max - gt_y_min + 1)\n",
    "\n",
    "                iou = interArea / (predArea + gtArea - interArea)\n",
    "\n",
    "\n",
    "                if iou > IOU_threshold:\n",
    "                    if pred[\"labels\"][i] == gt[\"labels\"][j]:\n",
    "                        true_Positive_Counter += 1\n",
    "                    else :\n",
    "                        false_Positive_Counter += 1\n",
    "    \n",
    "    tag = False\n",
    "    if (true_Positive_Counter + false_Positive_Counter) == 0:\n",
    "        precision_score = 0\n",
    "    else :\n",
    "        precision_score = true_Positive_Counter / (true_Positive_Counter + false_Positive_Counter)\n",
    "    if (true_Positive_Counter + false_Negative_Counter) == 0:\n",
    "        recall_score = 0\n",
    "    else :\n",
    "        recall_score = true_Positive_Counter / (true_Positive_Counter + false_Negative_Counter)\n",
    "    if (precision_score + recall_score) == 0:\n",
    "        F1_score = 0 \n",
    "    else:\n",
    "        F1_score =  precision_score * recall_score / (precision_score + recall_score)\n",
    "\n",
    "    return precision_score, recall_score, F1_score"
   ]
  },
  {
   "cell_type": "code",
   "execution_count": null,
   "metadata": {},
   "outputs": [],
   "source": []
  }
 ],
 "metadata": {
  "interpreter": {
   "hash": "96410b080c3ace32be3f113203d8e11bd99d59bea389843ba463ca870d414648"
  },
  "kernelspec": {
   "display_name": "Python 3.8.12 64-bit ('base': conda)",
   "language": "python",
   "name": "python3"
  },
  "language_info": {
   "codemirror_mode": {
    "name": "ipython",
    "version": 3
   },
   "file_extension": ".py",
   "mimetype": "text/x-python",
   "name": "python",
   "nbconvert_exporter": "python",
   "pygments_lexer": "ipython3",
   "version": "3.8.12"
  },
  "orig_nbformat": 4
 },
 "nbformat": 4,
 "nbformat_minor": 2
}
